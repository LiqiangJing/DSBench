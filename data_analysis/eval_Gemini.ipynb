{
 "cells": [
  {
   "cell_type": "code",
   "execution_count": 27,
   "id": "initial_id",
   "metadata": {
    "collapsed": true,
    "ExecuteTime": {
     "end_time": "2024-08-16T05:58:47.586192Z",
     "start_time": "2024-08-16T05:58:47.582361Z"
    }
   },
   "outputs": [],
   "source": [
    "import os\n",
    "import re\n",
    "import json\n",
    "import base64\n",
    "import tiktoken\n",
    "import time\n",
    "import fitz  # PyMuPDF\n",
    "import pandas as pd\n",
    "import openai\n",
    "from IPython.display import Image\n",
    "from IPython.core.display import HTML\n",
    "from tqdm.notebook import tqdm\n",
    "# from openai import OpenAI\n",
    "import anthropic\n",
    "import google.generativeai as genai\n",
    "import PIL\n",
    "import PIL\n",
    "from anthropic import HUMAN_PROMPT, AI_PROMPT, Anthropic\n"
   ]
  },
  {
   "cell_type": "code",
   "outputs": [],
   "source": [
    "MODEL_LIMITS = {\n",
    "    \"gpt-3.5-turbo-0125\": 16_385,\n",
    "    \"gpt-4-turbo-2024-04-09\": 128_000,\n",
    "    \"gpt-4o-2024-05-13\": 128_000,\n",
    "    \"gpt-4o-mini-2024-07-18\": 128_000,\n",
    "    \"claude-3-5-sonnet-20240620\": 200_000,\n",
    "    \"gemini-1.5-pro-exp-0801\": 1000_000,\n",
    "}\n",
    "\n",
    "# The cost per token for each model input.\n",
    "MODEL_COST_PER_INPUT = {\n",
    "    \"gpt-3.5-turbo-0125\": 0.0000005,\n",
    "    \"gpt-4-turbo-2024-04-09\": 0.00001,\n",
    "    \"gpt-4o-2024-05-13\": 0.000005,\n",
    "    \"gpt-4o-mini-2024-07-18\": 0.00000015,\n",
    "    \"claude-3-5-sonnet-20240620\": 0.000003,\n",
    "}\n",
    "\n",
    "# The cost per token for each model output.\n",
    "MODEL_COST_PER_OUTPUT = {\n",
    "    \"gpt-3.5-turbo-0125\": 0.0000015,\n",
    "    \"gpt-4-turbo-2024-04-09\": 0.00003,\n",
    "    \"gpt-4o-2024-05-13\": 0.000015,\n",
    "    \"gpt-4o-mini-2024-07-18\": 0.0000006,\n",
    "    \"claude-3-5-sonnet-20240620\":0.000015,\n",
    "}\n",
    "\n"
   ],
   "metadata": {
    "collapsed": false,
    "ExecuteTime": {
     "end_time": "2024-08-16T05:58:48.074936Z",
     "start_time": "2024-08-16T05:58:48.069335Z"
    }
   },
   "id": "707f7b0c807c3293",
   "execution_count": 28
  },
  {
   "cell_type": "code",
   "outputs": [],
   "source": [
    "# If the question is a multi-choice question and you are unsure which one is correct, you must guess an option.  Please don't ask me any questions and give me the answer in the response.\n",
    "\n",
    "def call_gemini(text, image, model, files=None):\n",
    "    system_messages = \"You are a data analyst. I will give  you a background introduction and data analysis question. You must give the answer for the input question.\"\n",
    "    try:\n",
    "        if image:\n",
    "            # organ = PIL.Image.open(image)\n",
    "            organ = Image(image)\n",
    "            # inputs = [system_messages +\"\\n\"+ text, organ] + files\n",
    "            inputs = [system_messages +\"\\n\"+ text, organ]\n",
    "            response = model.generate_content(inputs)                   \n",
    "        else:\n",
    "            # inputs =  [system_messages +\"\\n\"+ text] + files\n",
    "            inputs =  system_messages +\"\\n\"+ text\n",
    "            response = model.generate_content(inputs)\n",
    "            \n",
    "        return response\n",
    "    except Exception as e:\n",
    "        print(e)\n",
    "        time.sleep(5)\n",
    "        return e"
   ],
   "metadata": {
    "collapsed": false,
    "ExecuteTime": {
     "end_time": "2024-08-16T05:58:48.738136Z",
     "start_time": "2024-08-16T05:58:48.734387Z"
    }
   },
   "id": "13c11c802e901f74",
   "execution_count": 29
  },
  {
   "cell_type": "code",
   "outputs": [],
   "source": [
    "def gpt_tokenize(string: str, encoding) -> int:\n",
    "    \"\"\"Returns the number of tokens in a text string.\"\"\"\n",
    "    num_tokens = len(encoding.encode(string))\n",
    "    return num_tokens\n",
    "\n",
    "def claude_tokenize(string: str, api) -> int:\n",
    "    \"\"\"Returns the number of tokens in a text string.\"\"\"\n",
    "    num_tokens = api.count_tokens(string)\n",
    "    return num_tokens\n",
    "\n",
    "\n",
    "def find_jpg_files(directory):\n",
    "    jpg_files = [file for file in os.listdir(directory) if file.lower().endswith('.jpg') or file.lower().endswith('.png')]\n",
    "    return jpg_files if jpg_files else None\n",
    "\n",
    "# Function to encode the image\n",
    "def encode_image(image_path):\n",
    "  with open(image_path, \"rb\") as image_file:\n",
    "    return base64.b64encode(image_file.read()).decode('utf-8')\n",
    "\n",
    "\n",
    "def find_excel_files(directory):\n",
    "    jpg_files = [file for file in os.listdir(directory) if (file.lower().endswith('xlsx') or file.lower().endswith('xlsb') or file.lower().endswith('xlsm')) and not \"answer\" in file.lower()]\n",
    "    return jpg_files if jpg_files else None\n",
    "\n",
    "def read_excel(file_path):\n",
    "    # 读取Excel文件中的所有sheet\n",
    "    xls = pd.ExcelFile(file_path)\n",
    "    sheets = {}\n",
    "    for sheet_name in xls.sheet_names:\n",
    "        sheets[sheet_name] = xls.parse(sheet_name)\n",
    "    return sheets\n",
    "\n",
    "def dataframe_to_text(df):\n",
    "    # 将DataFrame转换为文本\n",
    "    text = df.to_string(index=False)\n",
    "    return text\n",
    "\n",
    "def combine_sheets_text(sheets):\n",
    "    # 将所有sheet的文本内容组合起来\n",
    "    combined_text = \"\"\n",
    "    for sheet_name, df in sheets.items():\n",
    "        sheet_text = dataframe_to_text(df)\n",
    "        combined_text += f\"Sheet name: {sheet_name}\\n{sheet_text}\\n\\n\"\n",
    "    return combined_text\n",
    "\n",
    "def read_txt(path):\n",
    "    with open(path, \"r\") as f:\n",
    "        return f.read()\n",
    "\n",
    "def truncate_text(text, max_tokens=128000):\n",
    "    # 计算当前文本的token数\n",
    "    tokens = text.split()\n",
    "    if len(tokens) > max_tokens:\n",
    "        # 截断文本以确保不超过最大token数\n",
    "        text = ' '.join(tokens[-max_tokens:])\n",
    "    return text"
   ],
   "metadata": {
    "collapsed": false,
    "ExecuteTime": {
     "end_time": "2024-08-16T05:58:49.416426Z",
     "start_time": "2024-08-16T05:58:49.412134Z"
    }
   },
   "id": "41837159d54fe6be",
   "execution_count": 30
  },
  {
   "cell_type": "code",
   "execution_count": 47,
   "outputs": [
    {
     "data": {
      "text/plain": "43"
     },
     "execution_count": 47,
     "metadata": {},
     "output_type": "execute_result"
    }
   ],
   "source": [
    "samples = []\n",
    "with open(\"./data_.json\", \"r\") as f:\n",
    "    for line in f:\n",
    "        samples.append(eval(line.strip()))\n",
    "len(samples)"
   ],
   "metadata": {
    "collapsed": false,
    "ExecuteTime": {
     "end_time": "2024-08-16T16:29:19.027970Z",
     "start_time": "2024-08-16T16:29:18.990316Z"
    }
   },
   "id": "959b638b518acaf8"
  },
  {
   "cell_type": "code",
   "outputs": [],
   "source": [
    "\n",
    "api_key = \"your-api-key\"\n",
    "genai.configure(api_key=api_key)\n",
    "model = 'gemini-1.5-pro-exp-0801'\n",
    "client = genai.GenerativeModel(model)\n",
    "from transformers import GPT2TokenizerFast\n",
    "\n",
    "tokenizer = GPT2TokenizerFast.from_pretrained('Xenova/claude-tokenizer')\n"
   ],
   "metadata": {
    "collapsed": false,
    "ExecuteTime": {
     "end_time": "2024-08-16T21:08:39.492789Z",
     "start_time": "2024-08-16T21:08:39.124259Z"
    }
   },
   "id": "df47e26d1c169390",
   "execution_count": 110
  },
  {
   "cell_type": "code",
   "execution_count": 111,
   "outputs": [
    {
     "name": "stderr",
     "output_type": "stream",
     "text": [
      "I0000 00:00:1723842519.491469 1558550 check_gcp_environment_no_op.cc:29] ALTS: Platforms other than Linux and Windows are not supported\n"
     ]
    }
   ],
   "source": [
    "a= client.generate_content(\"hello\")"
   ],
   "metadata": {
    "collapsed": false,
    "ExecuteTime": {
     "end_time": "2024-08-16T21:08:40.757849Z",
     "start_time": "2024-08-16T21:08:39.492724Z"
    }
   },
   "id": "6da58654d9b27f72"
  },
  {
   "cell_type": "code",
   "execution_count": 112,
   "outputs": [
    {
     "data": {
      "text/plain": "response:\nGenerateContentResponse(\n    done=True,\n    iterator=None,\n    result=protos.GenerateContentResponse({\n      \"candidates\": [\n        {\n          \"content\": {\n            \"parts\": [\n              {\n                \"text\": \"Hello! How can I help you today?\\n\"\n              }\n            ],\n            \"role\": \"model\"\n          },\n          \"finish_reason\": \"STOP\",\n          \"index\": 0,\n          \"safety_ratings\": [\n            {\n              \"category\": \"HARM_CATEGORY_SEXUALLY_EXPLICIT\",\n              \"probability\": \"NEGLIGIBLE\"\n            },\n            {\n              \"category\": \"HARM_CATEGORY_HATE_SPEECH\",\n              \"probability\": \"NEGLIGIBLE\"\n            },\n            {\n              \"category\": \"HARM_CATEGORY_HARASSMENT\",\n              \"probability\": \"NEGLIGIBLE\"\n            },\n            {\n              \"category\": \"HARM_CATEGORY_DANGEROUS_CONTENT\",\n              \"probability\": \"NEGLIGIBLE\"\n            }\n          ]\n        }\n      ],\n      \"usage_metadata\": {\n        \"prompt_token_count\": 2,\n        \"candidates_token_count\": 9,\n        \"total_token_count\": 11\n      }\n    }),\n)"
     },
     "execution_count": 112,
     "metadata": {},
     "output_type": "execute_result"
    }
   ],
   "source": [
    "a"
   ],
   "metadata": {
    "collapsed": false,
    "ExecuteTime": {
     "end_time": "2024-08-16T21:08:40.767555Z",
     "start_time": "2024-08-16T21:08:40.760776Z"
    }
   },
   "id": "48e07e0460bcd173"
  },
  {
   "cell_type": "code",
   "outputs": [
    {
     "data": {
      "text/plain": "  0%|          | 0/2 [00:00<?, ?it/s]",
      "application/vnd.jupyter.widget-view+json": {
       "version_major": 2,
       "version_minor": 0,
       "model_id": "1d7e8adeb6c14aea93b0be1c8f27dcc0"
      }
     },
     "metadata": {},
     "output_type": "display_data"
    },
    {
     "name": "stdout",
     "output_type": "stream",
     "text": [
      "existing 33 answers\n"
     ]
    },
    {
     "data": {
      "text/plain": "  0%|          | 0/17 [00:00<?, ?it/s]",
      "application/vnd.jupyter.widget-view+json": {
       "version_major": 2,
       "version_minor": 0,
       "model_id": "769c0155d65443a9aba9bdebf84b843e"
      }
     },
     "metadata": {},
     "output_type": "display_data"
    },
    {
     "name": "stdout",
     "output_type": "stream",
     "text": [
      "Total cost:  3.255e-05\n",
      "Total cost:  8.295e-05\n",
      "429 Resource has been exhausted (e.g. check quota).\n",
      "error 1: 'ResourceExhausted' object has no attribute 'usage_metadata'\n",
      "429 Resource has been exhausted (e.g. check quota).\n",
      "error 2: 'ResourceExhausted' object has no attribute 'usage_metadata'\n",
      "Total cost:  0.000112\n",
      "Total cost:  0.00014209999999999998\n",
      "Total cost:  0.0001757\n",
      "429 Resource has been exhausted (e.g. check quota).\n",
      "error 1: 'ResourceExhausted' object has no attribute 'usage_metadata'\n",
      "429 Resource has been exhausted (e.g. check quota).\n",
      "error 2: 'ResourceExhausted' object has no attribute 'usage_metadata'\n",
      "Total cost:  0.00020789999999999998\n",
      "Total cost:  0.00024045\n",
      "Total cost:  0.0002779\n",
      "429 Resource has been exhausted (e.g. check quota).\n",
      "error 1: 'ResourceExhausted' object has no attribute 'usage_metadata'\n",
      "429 Resource has been exhausted (e.g. check quota).\n",
      "error 2: 'ResourceExhausted' object has no attribute 'usage_metadata'\n",
      "Total cost:  0.00031114999999999995\n",
      "Total cost:  0.0003401999999999999\n",
      "Total cost:  0.0003902499999999999\n",
      "429 Resource has been exhausted (e.g. check quota).\n",
      "error 1: 'ResourceExhausted' object has no attribute 'usage_metadata'\n",
      "429 Resource has been exhausted (e.g. check quota).\n",
      "error 2: 'ResourceExhausted' object has no attribute 'usage_metadata'\n",
      "Total cost:  0.0004546499999999999\n",
      "Total cost:  0.0005214999999999999\n",
      "Total cost:  0.0005816999999999999\n",
      "429 Resource has been exhausted (e.g. check quota).\n",
      "error 1: 'ResourceExhausted' object has no attribute 'usage_metadata'\n",
      "429 Resource has been exhausted (e.g. check quota).\n",
      "error 2: 'ResourceExhausted' object has no attribute 'usage_metadata'\n",
      "Total cost:  0.0006292999999999998\n",
      "Total cost:  0.0006894999999999998\n",
      "Total cost:  0.0007563499999999998\n",
      "existing 0 answers\n"
     ]
    },
    {
     "data": {
      "text/plain": "  0%|          | 0/20 [00:00<?, ?it/s]",
      "application/vnd.jupyter.widget-view+json": {
       "version_major": 2,
       "version_minor": 0,
       "model_id": "efaf189d7df7466b86cc1df81ebeb428"
      }
     },
     "metadata": {},
     "output_type": "display_data"
    },
    {
     "name": "stdout",
     "output_type": "stream",
     "text": [
      "429 Resource has been exhausted (e.g. check quota).\n",
      "error 1: 'ResourceExhausted' object has no attribute 'usage_metadata'\n",
      "429 Resource has been exhausted (e.g. check quota).\n",
      "error 2: 'ResourceExhausted' object has no attribute 'usage_metadata'\n",
      "Total cost:  0.0009544499999999998\n",
      "Total cost:  0.0013303499999999997\n",
      "Total cost:  0.0018168499999999996\n",
      "429 Resource has been exhausted (e.g. check quota).\n",
      "error 1: 'ResourceExhausted' object has no attribute 'usage_metadata'\n",
      "Total cost:  0.0024793999999999997\n",
      "Total cost:  0.0027975499999999998\n",
      "Total cost:  0.0031702999999999996\n",
      "429 Resource has been exhausted (e.g. check quota).\n",
      "error 1: 'ResourceExhausted' object has no attribute 'usage_metadata'\n",
      "429 Resource has been exhausted (e.g. check quota).\n",
      "error 2: 'ResourceExhausted' object has no attribute 'usage_metadata'\n",
      "Total cost:  0.0034201999999999995\n",
      "Total cost:  0.0037502499999999997\n",
      "Total cost:  0.00404355\n",
      "429 Resource has been exhausted (e.g. check quota).\n",
      "error 1: 'ResourceExhausted' object has no attribute 'usage_metadata'\n",
      "Total cost:  0.00440685\n",
      "Total cost:  0.0046382\n",
      "Total cost:  0.004922050000000001\n",
      "429 Resource has been exhausted (e.g. check quota).\n",
      "error 1: 'ResourceExhausted' object has no attribute 'usage_metadata'\n",
      "429 Resource has been exhausted (e.g. check quota).\n",
      "error 2: 'ResourceExhausted' object has no attribute 'usage_metadata'\n",
      "Total cost:  0.005357450000000001\n",
      "Total cost:  0.005961200000000001\n",
      "Total cost:  0.006335350000000001\n",
      "429 Resource has been exhausted (e.g. check quota).\n",
      "error 1: 'ResourceExhausted' object has no attribute 'usage_metadata'\n",
      "Total cost:  0.006606950000000001\n",
      "Total cost:  0.0067921000000000014\n",
      "Total cost:  0.007064750000000002\n",
      "429 Resource has been exhausted (e.g. check quota).\n",
      "error 1: 'ResourceExhausted' object has no attribute 'usage_metadata'\n",
      "429 Resource has been exhausted (e.g. check quota).\n",
      "error 2: 'ResourceExhausted' object has no attribute 'usage_metadata'\n",
      "Total cost:  0.007715050000000001\n",
      "Total cost:  0.008459850000000001\n"
     ]
    }
   ],
   "source": [
    "response = call_gemini(\"你好\",None, client, [])"
   ],
   "metadata": {
    "collapsed": false,
    "ExecuteTime": {
     "end_time": "2024-08-16T21:21:22.363802Z",
     "start_time": "2024-08-16T21:08:41.916441Z"
    }
   },
   "id": "32a7ecfeafaa4e02",
   "execution_count": 113
  },
  {
   "cell_type": "code",
   "execution_count": 24,
   "outputs": [
    {
     "data": {
      "text/plain": "google.api_core.exceptions.ResourceExhausted('Resource has been exhausted (e.g. check quota).')"
     },
     "execution_count": 24,
     "metadata": {},
     "output_type": "execute_result"
    }
   ],
   "source": [
    "response"
   ],
   "metadata": {
    "collapsed": false,
    "ExecuteTime": {
     "end_time": "2024-08-16T05:48:26.939422Z",
     "start_time": "2024-08-16T05:48:26.935290Z"
    }
   },
   "id": "7aa77fb1c067d761"
  },
  {
   "cell_type": "code",
   "outputs": [
    {
     "data": {
      "text/plain": "google.api_core.exceptions.ResourceExhausted('Resource has been exhausted (e.g. check quota).')"
     },
     "execution_count": 25,
     "metadata": {},
     "output_type": "execute_result"
    }
   ],
   "source": [
    "response"
   ],
   "metadata": {
    "collapsed": false,
    "ExecuteTime": {
     "end_time": "2024-08-16T05:48:26.946069Z",
     "start_time": "2024-08-16T05:48:26.938372Z"
    }
   },
   "id": "3d42e9ea38cbb7de",
   "execution_count": 25
  },
  {
   "cell_type": "code",
   "outputs": [
    {
     "data": {
      "text/plain": "  0%|          | 0/39 [00:00<?, ?it/s]",
      "application/vnd.jupyter.widget-view+json": {
       "version_major": 2,
       "version_minor": 0,
       "model_id": "86741d3e5e8a4a3ea2585e722b1e43e1"
      }
     },
     "metadata": {},
     "output_type": "display_data"
    },
    {
     "name": "stdout",
     "output_type": "stream",
     "text": [
      "existing 10 answers\n"
     ]
    },
    {
     "data": {
      "text/plain": "0it [00:00, ?it/s]",
      "application/vnd.jupyter.widget-view+json": {
       "version_major": 2,
       "version_minor": 0,
       "model_id": "61b78847b80f4df89f40aae69efc8c6c"
      }
     },
     "metadata": {},
     "output_type": "display_data"
    },
    {
     "name": "stdout",
     "output_type": "stream",
     "text": [
      "existing 10 answers\n"
     ]
    },
    {
     "data": {
      "text/plain": "0it [00:00, ?it/s]",
      "application/vnd.jupyter.widget-view+json": {
       "version_major": 2,
       "version_minor": 0,
       "model_id": "adbbb08af91e4f5cb5c99eed933b1552"
      }
     },
     "metadata": {},
     "output_type": "display_data"
    },
    {
     "name": "stdout",
     "output_type": "stream",
     "text": [
      "existing 23 answers\n"
     ]
    },
    {
     "data": {
      "text/plain": "0it [00:00, ?it/s]",
      "application/vnd.jupyter.widget-view+json": {
       "version_major": 2,
       "version_minor": 0,
       "model_id": "ae4656b812e84daa89bc2c059ca76e19"
      }
     },
     "metadata": {},
     "output_type": "display_data"
    },
    {
     "name": "stdout",
     "output_type": "stream",
     "text": [
      "existing 9 answers\n"
     ]
    },
    {
     "data": {
      "text/plain": "0it [00:00, ?it/s]",
      "application/vnd.jupyter.widget-view+json": {
       "version_major": 2,
       "version_minor": 0,
       "model_id": "7ca69310ff4e4086916b013d20fb7a1b"
      }
     },
     "metadata": {},
     "output_type": "display_data"
    },
    {
     "name": "stdout",
     "output_type": "stream",
     "text": [
      "existing 15 answers\n"
     ]
    },
    {
     "data": {
      "text/plain": "0it [00:00, ?it/s]",
      "application/vnd.jupyter.widget-view+json": {
       "version_major": 2,
       "version_minor": 0,
       "model_id": "0d598df4a45e47648a8fa0e89090931e"
      }
     },
     "metadata": {},
     "output_type": "display_data"
    },
    {
     "name": "stdout",
     "output_type": "stream",
     "text": [
      "existing 20 answers\n"
     ]
    },
    {
     "data": {
      "text/plain": "0it [00:00, ?it/s]",
      "application/vnd.jupyter.widget-view+json": {
       "version_major": 2,
       "version_minor": 0,
       "model_id": "27c522fa160d4b17b4d26ab785f8da24"
      }
     },
     "metadata": {},
     "output_type": "display_data"
    },
    {
     "name": "stdout",
     "output_type": "stream",
     "text": [
      "existing 8 answers\n"
     ]
    },
    {
     "data": {
      "text/plain": "0it [00:00, ?it/s]",
      "application/vnd.jupyter.widget-view+json": {
       "version_major": 2,
       "version_minor": 0,
       "model_id": "9947ac6f69424fb5a05b8e9700a86348"
      }
     },
     "metadata": {},
     "output_type": "display_data"
    },
    {
     "name": "stdout",
     "output_type": "stream",
     "text": [
      "existing 10 answers\n"
     ]
    },
    {
     "data": {
      "text/plain": "0it [00:00, ?it/s]",
      "application/vnd.jupyter.widget-view+json": {
       "version_major": 2,
       "version_minor": 0,
       "model_id": "aa173da4946b4e208ff3ce87ba1d1597"
      }
     },
     "metadata": {},
     "output_type": "display_data"
    },
    {
     "name": "stdout",
     "output_type": "stream",
     "text": [
      "existing 11 answers\n"
     ]
    },
    {
     "data": {
      "text/plain": "0it [00:00, ?it/s]",
      "application/vnd.jupyter.widget-view+json": {
       "version_major": 2,
       "version_minor": 0,
       "model_id": "831d694a62494fb4a26c5bdb20ddfdc8"
      }
     },
     "metadata": {},
     "output_type": "display_data"
    },
    {
     "name": "stdout",
     "output_type": "stream",
     "text": [
      "existing 5 answers\n"
     ]
    },
    {
     "data": {
      "text/plain": "0it [00:00, ?it/s]",
      "application/vnd.jupyter.widget-view+json": {
       "version_major": 2,
       "version_minor": 0,
       "model_id": "d01c093693e741b9b1dffbe475809b35"
      }
     },
     "metadata": {},
     "output_type": "display_data"
    },
    {
     "name": "stdout",
     "output_type": "stream",
     "text": [
      "existing 9 answers\n"
     ]
    },
    {
     "data": {
      "text/plain": "  0%|          | 0/3 [00:00<?, ?it/s]",
      "application/vnd.jupyter.widget-view+json": {
       "version_major": 2,
       "version_minor": 0,
       "model_id": "347b8e27046d49f8b18357706452c84f"
      }
     },
     "metadata": {},
     "output_type": "display_data"
    },
    {
     "name": "stdout",
     "output_type": "stream",
     "text": [
      "Total cost:  0.0008070999999999999\n",
      "Total cost:  0.0021906499999999997\n",
      "429 Resource has been exhausted (e.g. check quota).\n",
      "error 1: 'ResourceExhausted' object has no attribute 'usage_metadata'\n",
      "429 Resource has been exhausted (e.g. check quota).\n",
      "error 2: 'ResourceExhausted' object has no attribute 'usage_metadata'\n",
      "Total cost:  0.0030386999999999996\n",
      "existing 0 answers\n"
     ]
    },
    {
     "data": {
      "text/plain": "  0%|          | 0/11 [00:00<?, ?it/s]",
      "application/vnd.jupyter.widget-view+json": {
       "version_major": 2,
       "version_minor": 0,
       "model_id": "3120a6bd34c64245a6dbbfb2e6a0b35d"
      }
     },
     "metadata": {},
     "output_type": "display_data"
    },
    {
     "name": "stdout",
     "output_type": "stream",
     "text": [
      "Total cost:  0.0091\n",
      "Total cost:  0.01479135\n",
      "429 Resource has been exhausted (e.g. check quota).\n",
      "error 1: 'ResourceExhausted' object has no attribute 'usage_metadata'\n",
      "Total cost:  0.020794899999999998\n",
      "Total cost:  0.02699935\n",
      "Total cost:  0.0332997\n",
      "429 Resource has been exhausted (e.g. check quota).\n",
      "error 1: 'ResourceExhausted' object has no attribute 'usage_metadata'\n",
      "Total cost:  0.03942015\n",
      "Total cost:  0.04510485\n",
      "Total cost:  0.05104365\n",
      "429 Resource has been exhausted (e.g. check quota).\n",
      "error 1: 'ResourceExhausted' object has no attribute 'usage_metadata'\n",
      "Total cost:  0.0571235\n",
      "Total cost:  0.0634879\n",
      "Total cost:  0.06963495\n",
      "existing 0 answers\n"
     ]
    },
    {
     "data": {
      "text/plain": "  0%|          | 0/12 [00:00<?, ?it/s]",
      "application/vnd.jupyter.widget-view+json": {
       "version_major": 2,
       "version_minor": 0,
       "model_id": "553450401b8c48a6a78237b1f8d5509d"
      }
     },
     "metadata": {},
     "output_type": "display_data"
    },
    {
     "name": "stdout",
     "output_type": "stream",
     "text": [
      "429 Resource has been exhausted (e.g. check quota).\n",
      "error 1: 'ResourceExhausted' object has no attribute 'usage_metadata'\n",
      "Total cost:  0.0838012\n",
      "Total cost:  0.09806265\n",
      "Total cost:  0.11222155\n",
      "429 Resource has been exhausted (e.g. check quota).\n",
      "error 1: 'ResourceExhausted' object has no attribute 'usage_metadata'\n",
      "Total cost:  0.1265355\n",
      "Total cost:  0.14076615\n",
      "Total cost:  0.1552201\n",
      "Total cost:  0.16940105\n",
      "Total cost:  0.18379689999999999\n",
      "Total cost:  0.19776259999999998\n",
      "Total cost:  0.21175665\n",
      "Total cost:  0.22588894999999998\n",
      "429 Resource has been exhausted (e.g. check quota).\n",
      "error 1: 'ResourceExhausted' object has no attribute 'usage_metadata'\n",
      "Total cost:  0.24017909999999998\n",
      "existing 0 answers\n"
     ]
    },
    {
     "data": {
      "text/plain": "  0%|          | 0/10 [00:00<?, ?it/s]",
      "application/vnd.jupyter.widget-view+json": {
       "version_major": 2,
       "version_minor": 0,
       "model_id": "21431ce2bf6e4b83863eccf90a27b0c3"
      }
     },
     "metadata": {},
     "output_type": "display_data"
    },
    {
     "name": "stdout",
     "output_type": "stream",
     "text": [
      "Total cost:  0.24205229999999997\n",
      "Total cost:  0.24380964999999996\n",
      "429 Resource has been exhausted (e.g. check quota).\n",
      "error 1: 'ResourceExhausted' object has no attribute 'usage_metadata'\n",
      "Total cost:  0.24559849999999997\n",
      "Total cost:  0.24729529999999997\n",
      "Total cost:  0.24903269999999997\n",
      "429 Resource has been exhausted (e.g. check quota).\n",
      "error 1: 'ResourceExhausted' object has no attribute 'usage_metadata'\n",
      "Total cost:  0.25058634999999996\n",
      "Total cost:  0.25232724999999995\n",
      "Total cost:  0.25395789999999996\n",
      "429 Resource has been exhausted (e.g. check quota).\n",
      "error 1: 'ResourceExhausted' object has no attribute 'usage_metadata'\n",
      "429 Resource has been exhausted (e.g. check quota).\n",
      "error 2: 'ResourceExhausted' object has no attribute 'usage_metadata'\n",
      "Total cost:  0.25531239999999994\n",
      "Total cost:  0.25666304999999995\n",
      "existing 0 answers\n"
     ]
    },
    {
     "data": {
      "text/plain": "  0%|          | 0/10 [00:00<?, ?it/s]",
      "application/vnd.jupyter.widget-view+json": {
       "version_major": 2,
       "version_minor": 0,
       "model_id": "2fbe1530542e47f8af21f90825321ed9"
      }
     },
     "metadata": {},
     "output_type": "display_data"
    },
    {
     "name": "stdout",
     "output_type": "stream",
     "text": [
      "Total cost:  0.25977279999999997\n",
      "429 Resource has been exhausted (e.g. check quota).\n",
      "error 1: 'ResourceExhausted' object has no attribute 'usage_metadata'\n",
      "Total cost:  0.26281465\n",
      "Total cost:  0.2657305\n",
      "Total cost:  0.26851159999999996\n",
      "429 Resource has been exhausted (e.g. check quota).\n",
      "error 1: 'ResourceExhausted' object has no attribute 'usage_metadata'\n",
      "429 Resource has been exhausted (e.g. check quota).\n",
      "error 2: 'ResourceExhausted' object has no attribute 'usage_metadata'\n",
      "Total cost:  0.27160524999999996\n",
      "Total cost:  0.27452845\n",
      "Total cost:  0.27714049999999996\n",
      "429 Resource has been exhausted (e.g. check quota).\n",
      "error 1: 'ResourceExhausted' object has no attribute 'usage_metadata'\n",
      "Total cost:  0.28002414999999997\n",
      "Total cost:  0.2826026\n",
      "Total cost:  0.2851919\n",
      "existing 0 answers\n"
     ]
    },
    {
     "data": {
      "text/plain": "  0%|          | 0/10 [00:00<?, ?it/s]",
      "application/vnd.jupyter.widget-view+json": {
       "version_major": 2,
       "version_minor": 0,
       "model_id": "cad61f95504748a8b823da8164d6623f"
      }
     },
     "metadata": {},
     "output_type": "display_data"
    },
    {
     "name": "stdout",
     "output_type": "stream",
     "text": [
      "429 Resource has been exhausted (e.g. check quota).\n",
      "error 1: 'ResourceExhausted' object has no attribute 'usage_metadata'\n",
      "429 Resource has been exhausted (e.g. check quota).\n",
      "error 2: 'ResourceExhausted' object has no attribute 'usage_metadata'\n",
      "Total cost:  0.28850465\n",
      "Total cost:  0.29198329999999995\n",
      "Total cost:  0.29585079999999997\n",
      "Total cost:  0.299355\n",
      "429 Resource has been exhausted (e.g. check quota).\n",
      "error 1: 'ResourceExhausted' object has no attribute 'usage_metadata'\n",
      "429 Resource has been exhausted (e.g. check quota).\n",
      "error 2: 'ResourceExhausted' object has no attribute 'usage_metadata'\n",
      "429 Resource has been exhausted (e.g. check quota).\n",
      "error 3: 'ResourceExhausted' object has no attribute 'usage_metadata'\n",
      "429 Resource has been exhausted (e.g. check quota).\n",
      "error 4: 'ResourceExhausted' object has no attribute 'usage_metadata'\n",
      "429 Resource has been exhausted (e.g. check quota).\n",
      "error 5: 'ResourceExhausted' object has no attribute 'usage_metadata'\n",
      "429 Resource has been exhausted (e.g. check quota).\n",
      "error 6: 'ResourceExhausted' object has no attribute 'usage_metadata'\n",
      "429 Resource has been exhausted (e.g. check quota).\n",
      "error 7: 'ResourceExhausted' object has no attribute 'usage_metadata'\n",
      "429 Resource has been exhausted (e.g. check quota).\n",
      "error 8: 'ResourceExhausted' object has no attribute 'usage_metadata'\n",
      "429 Resource has been exhausted (e.g. check quota).\n",
      "error 9: 'ResourceExhausted' object has no attribute 'usage_metadata'\n",
      "429 Resource has been exhausted (e.g. check quota).\n",
      "error 10: 'ResourceExhausted' object has no attribute 'usage_metadata'\n",
      "429 Resource has been exhausted (e.g. check quota).\n",
      "error 11: 'ResourceExhausted' object has no attribute 'usage_metadata'\n",
      "429 Resource has been exhausted (e.g. check quota).\n",
      "error 12: 'ResourceExhausted' object has no attribute 'usage_metadata'\n",
      "429 Resource has been exhausted (e.g. check quota).\n",
      "error 13: 'ResourceExhausted' object has no attribute 'usage_metadata'\n",
      "429 Resource has been exhausted (e.g. check quota).\n",
      "error 14: 'ResourceExhausted' object has no attribute 'usage_metadata'\n",
      "429 Resource has been exhausted (e.g. check quota).\n",
      "error 15: 'ResourceExhausted' object has no attribute 'usage_metadata'\n",
      "429 Resource has been exhausted (e.g. check quota).\n",
      "error 16: 'ResourceExhausted' object has no attribute 'usage_metadata'\n",
      "429 Resource has been exhausted (e.g. check quota).\n",
      "error 17: 'ResourceExhausted' object has no attribute 'usage_metadata'\n",
      "429 Resource has been exhausted (e.g. check quota).\n",
      "error 18: 'ResourceExhausted' object has no attribute 'usage_metadata'\n",
      "429 Resource has been exhausted (e.g. check quota).\n",
      "error 19: 'ResourceExhausted' object has no attribute 'usage_metadata'\n"
     ]
    },
    {
     "ename": "KeyboardInterrupt",
     "evalue": "",
     "output_type": "error",
     "traceback": [
      "\u001B[0;31m---------------------------------------------------------------------------\u001B[0m",
      "\u001B[0;31mAttributeError\u001B[0m                            Traceback (most recent call last)",
      "Cell \u001B[0;32mIn[51], line 72\u001B[0m\n\u001B[1;32m     71\u001B[0m cost \u001B[38;5;241m=\u001B[39m \u001B[38;5;241m0\u001B[39m\n\u001B[0;32m---> 72\u001B[0m \u001B[38;5;28;01mif\u001B[39;00m \u001B[43mresponse\u001B[49m\u001B[38;5;241;43m.\u001B[39;49m\u001B[43musage_metadata\u001B[49m\u001B[38;5;241m.\u001B[39mprompt_token_count \u001B[38;5;241m>\u001B[39m\u001B[38;5;241m128000\u001B[39m:\n\u001B[1;32m     73\u001B[0m     cost \u001B[38;5;241m+\u001B[39m\u001B[38;5;241m=\u001B[39m response\u001B[38;5;241m.\u001B[39musage_metadata\u001B[38;5;241m.\u001B[39mprompt_token_count \u001B[38;5;241m*\u001B[39m \u001B[38;5;241m0.0000007\u001B[39m\n",
      "\u001B[0;31mAttributeError\u001B[0m: 'ResourceExhausted' object has no attribute 'usage_metadata'",
      "\nDuring handling of the above exception, another exception occurred:\n",
      "\u001B[0;31mKeyboardInterrupt\u001B[0m                         Traceback (most recent call last)",
      "Cell \u001B[0;32mIn[51], line 97\u001B[0m\n\u001B[1;32m     94\u001B[0m             error_num \u001B[38;5;241m+\u001B[39m\u001B[38;5;241m=\u001B[39m \u001B[38;5;241m1\u001B[39m\n\u001B[1;32m     95\u001B[0m             \u001B[38;5;28mprint\u001B[39m(\u001B[38;5;124mf\u001B[39m\u001B[38;5;124m\"\u001B[39m\u001B[38;5;124merror \u001B[39m\u001B[38;5;132;01m{\u001B[39;00merror_num\u001B[38;5;132;01m}\u001B[39;00m\u001B[38;5;124m: \u001B[39m\u001B[38;5;132;01m{\u001B[39;00me\u001B[38;5;132;01m}\u001B[39;00m\u001B[38;5;124m\"\u001B[39m)\n\u001B[0;32m---> 97\u001B[0m             \u001B[43mtime\u001B[49m\u001B[38;5;241;43m.\u001B[39;49m\u001B[43msleep\u001B[49m\u001B[43m(\u001B[49m\u001B[38;5;241;43m25\u001B[39;49m\u001B[43m)\u001B[49m\n\u001B[1;32m     99\u001B[0m     \u001B[38;5;66;03m# time.sleep(58)\u001B[39;00m\n\u001B[1;32m    100\u001B[0m     \n\u001B[1;32m    101\u001B[0m     \u001B[38;5;66;03m# break\u001B[39;00m\n\u001B[1;32m    102\u001B[0m save_f\u001B[38;5;241m.\u001B[39mclose()\n",
      "\u001B[0;31mKeyboardInterrupt\u001B[0m: "
     ]
    }
   ],
   "source": [
    "\n",
    "\n",
    "data_path = './data'\n",
    "\n",
    "total_cost = 0\n",
    "\n",
    "for id in tqdm(range(0, len(samples))):\n",
    "    # print(sample)\n",
    "    sample =samples[id]\n",
    "    if len(sample[\"questions\"]) > 0:\n",
    "        start = sample[\"questions\"][0]\n",
    "        end = sample[\"questions\"][-1]\n",
    "        # print(start)\n",
    "        # print(end)\n",
    "        image = find_jpg_files(os.path.join(data_path, sample[\"id\"]))\n",
    "        if image:\n",
    "            image = os.path.join(data_path, sample[\"id\"], image[0])\n",
    "        \n",
    "        excel_content = \"\"\n",
    "        excels = find_excel_files(os.path.join(data_path, sample[\"id\"]))\n",
    "        # files = []\n",
    "        \n",
    "        if excels:\n",
    "            for excel in excels:\n",
    "                excel_file_path = os.path.join(data_path,  sample[\"id\"], excel)\n",
    "                sheets = read_excel(excel_file_path)\n",
    "                combined_text = combine_sheets_text(sheets)\n",
    "                excel_content += f\"The excel file {excel} is: \" + combined_text\n",
    "                # files.append(genai.upload_file(excel_file_path))\n",
    "\n",
    "        introduction = read_txt(os.path.join(data_path, sample[\"id\"], \"introduction.txt\"))\n",
    "        questions = []\n",
    "        for question_name in sample[\"questions\"]:\n",
    "            questions.append(read_txt(os.path.join(data_path, sample[\"id\"], question_name+\".txt\")))\n",
    "            \n",
    "        # print(workbooks)\n",
    "        \n",
    "        text = \"\"\n",
    "        if excel_content:\n",
    "            text += f\"The workbook is detailed as follows. {excel_content} \\n\"\n",
    "        text += f\"The introduction is detailed as follows. \\n {introduction} \\n\"\n",
    "        answers = []\n",
    "        \n",
    "        line_num = 0\n",
    "        save_path = os.path.join(\"./evaluation/save_process\", model)\n",
    "        if not os.path.exists(save_path):\n",
    "            os.makedirs(save_path)\n",
    "        if os.path.exists(os.path.join(save_path, sample['id']+\".json\")):\n",
    "            with open(os.path.join(save_path, sample['id']+\".json\"), \"r\") as f:\n",
    "                for line in f:\n",
    "                    line_num += 1\n",
    "        print(f\"existing {line_num} answers\")\n",
    "        save_f =  open(os.path.join(save_path, sample['id']+\".json\"), \"a+\")\n",
    "        \n",
    "        for question in tqdm(questions[line_num:]):\n",
    "            prompt = text +  f\"The questions are detailed as follows. \\n {question}\"\n",
    "        \n",
    "            # print(len(encoding.encode(prompt)))\n",
    "            cut_text = tokenizer.decode(tokenizer.encode(prompt)[6000-MODEL_LIMITS[model]:])\n",
    "            # print(len(encoding.encode(prompt)))\n",
    "            # print(prompt)\n",
    "            # text = truncate_text(text, 20000)\n",
    "            error_num = 0\n",
    "            while True:\n",
    "                try:\n",
    "                    start = time.time()\n",
    "                    # response = call_gemini(cut_text, image, client, files)\n",
    "                    response = call_gemini(cut_text, image, client)\n",
    "                    \n",
    "                    cost = 0\n",
    "                    if response.usage_metadata.prompt_token_count >128000:\n",
    "                        cost += response.usage_metadata.prompt_token_count * 0.0000007\n",
    "                    else:\n",
    "                        cost += 0.00000035 * response.usage_metadata.prompt_token_count\n",
    "                        \n",
    "                    if response.usage_metadata.candidates_token_count > 128000:\n",
    "                        cost += 0.0000021 * response.usage_metadata.candidates_token_count\n",
    "                    else:\n",
    "                        cost += 0.00000105 * response.usage_metadata.candidates_token_count\n",
    "                    # cost = response.usage_metadata.prompt_token_count * MODEL_COST_PER_OUTPUT[model] + response.usage.input_tokens * MODEL_COST_PER_INPUT[model]\n",
    "                    ans = {\"id\": sample[\"id\"], \"model\": model, \"input\": response.usage_metadata.prompt_token_count,\n",
    "                                    \"output\": response.usage_metadata.candidates_token_count, \"cost\": cost, \"time\": time.time()-start, \"response\": response.text}\n",
    "                    \n",
    "                    answers.append({\"id\": sample[\"id\"], \"model\": model, \"input\": response.usage_metadata.prompt_token_count,\n",
    "                                    \"output\": response.usage_metadata.candidates_token_count, \"cost\": cost, \"time\": time.time()-start, \"response\": response.text})\n",
    "                    total_cost += cost\n",
    "                    print(\"Total cost: \", total_cost)\n",
    "                    json.dump(ans, save_f)\n",
    "                    save_f.write(\"\\n\")\n",
    "                    save_f.flush()\n",
    "                    break\n",
    "                except Exception as e:\n",
    "                    error_num += 1\n",
    "                    print(f\"error {error_num}: {e}\")\n",
    "                    \n",
    "                    time.sleep(10)\n",
    "        \n",
    "            # time.sleep(58)\n",
    "            \n",
    "            # break\n",
    "        save_f.close()\n",
    "\n",
    "            "
   ],
   "metadata": {
    "collapsed": false,
    "ExecuteTime": {
     "end_time": "2024-08-16T16:55:59.387618Z",
     "start_time": "2024-08-16T16:29:27.543799Z"
    }
   },
   "id": "915b7584dd737f9c",
   "execution_count": 51
  },
  {
   "cell_type": "code",
   "outputs": [
    {
     "data": {
      "text/plain": "google.api_core.exceptions.ResourceExhausted('Resource has been exhausted (e.g. check quota).')"
     },
     "execution_count": 86,
     "metadata": {},
     "output_type": "execute_result"
    }
   ],
   "source": [
    "response"
   ],
   "metadata": {
    "collapsed": false,
    "ExecuteTime": {
     "end_time": "2024-08-08T23:04:44.980370Z",
     "start_time": "2024-08-08T23:04:44.971492Z"
    }
   },
   "id": "d723a58557b8e528",
   "execution_count": 86
  },
  {
   "cell_type": "code",
   "outputs": [
    {
     "data": {
      "text/plain": "'* **Days in Q4 2023:** October (31 days) + November (30 days) + December (31 days) = 92 days\\n* **Shutdown in Q4 2023:** From 25th October to 10th November = 16 days\\n* **Operational Days:** 92 days - 16 days = 76 days\\n\\n**Answer: E. 76** \\n'"
     },
     "execution_count": 84,
     "metadata": {},
     "output_type": "execute_result"
    }
   ],
   "source": [
    "response.text"
   ],
   "metadata": {
    "collapsed": false,
    "ExecuteTime": {
     "end_time": "2024-08-08T23:03:16.856968Z",
     "start_time": "2024-08-08T23:03:16.837786Z"
    }
   },
   "id": "a8211fdbcdd33fdf",
   "execution_count": 84
  },
  {
   "cell_type": "code",
   "outputs": [],
   "source": [
    "print(response.usage.completion_tokens)\n",
    "print(response.usage.prompt_tokens)\n",
    "print(response.choices[0].message.content)\n",
    "print(response.model)\n",
    "\n",
    "print(response)"
   ],
   "metadata": {
    "collapsed": false,
    "ExecuteTime": {
     "start_time": "2024-08-08T05:17:20.671869Z"
    }
   },
   "id": "8d44e2b9c6a8c0a4",
   "execution_count": null
  },
  {
   "cell_type": "code",
   "outputs": [],
   "source": [],
   "metadata": {
    "collapsed": false
   },
   "id": "776fe6837f36ce53"
  }
 ],
 "metadata": {
  "kernelspec": {
   "display_name": "Python 3",
   "language": "python",
   "name": "python3"
  },
  "language_info": {
   "codemirror_mode": {
    "name": "ipython",
    "version": 2
   },
   "file_extension": ".py",
   "mimetype": "text/x-python",
   "name": "python",
   "nbconvert_exporter": "python",
   "pygments_lexer": "ipython2",
   "version": "2.7.6"
  }
 },
 "nbformat": 4,
 "nbformat_minor": 5
}
